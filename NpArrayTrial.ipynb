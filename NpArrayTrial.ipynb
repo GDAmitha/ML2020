{
 "cells": [
  {
   "cell_type": "code",
   "execution_count": 50,
   "metadata": {},
   "outputs": [],
   "source": [
    "from numpy import loadtxt\n",
    "from keras.models import Sequential\n",
    "from keras.layers import Dense\n",
    "import tensorflow as tf\n",
    "import pandas as pd\n",
    "import numpy as np\n",
    "import os"
   ]
  },
  {
   "cell_type": "code",
   "execution_count": 28,
   "metadata": {},
   "outputs": [],
   "source": [
    "trialpath=\"/root/MRI_DATA/ML_Project_2020/SERVER_CODE/FINALCSVWITHARRAY/trial\"\n",
    "trial = pd.read_csv(os.path.join(trialpath,\"1000trialfortf.csv\"))"
   ]
  },
  {
   "cell_type": "code",
   "execution_count": 29,
   "metadata": {},
   "outputs": [
    {
     "data": {
      "text/html": [
       "<div>\n",
       "<style scoped>\n",
       "    .dataframe tbody tr th:only-of-type {\n",
       "        vertical-align: middle;\n",
       "    }\n",
       "\n",
       "    .dataframe tbody tr th {\n",
       "        vertical-align: top;\n",
       "    }\n",
       "\n",
       "    .dataframe thead th {\n",
       "        text-align: right;\n",
       "    }\n",
       "</style>\n",
       "<table border=\"1\" class=\"dataframe\">\n",
       "  <thead>\n",
       "    <tr style=\"text-align: right;\">\n",
       "      <th></th>\n",
       "      <th>Unnamed: 0</th>\n",
       "      <th>mrinumber</th>\n",
       "      <th>mritype</th>\n",
       "      <th>fullpath</th>\n",
       "      <th>filename</th>\n",
       "      <th>array</th>\n",
       "      <th>CDRGLOB</th>\n",
       "    </tr>\n",
       "  </thead>\n",
       "  <tbody>\n",
       "    <tr>\n",
       "      <th>0</th>\n",
       "      <td>0</td>\n",
       "      <td>mri498ni</td>\n",
       "      <td>NaN</td>\n",
       "      <td>/root/MRI_DATA/SECONDBATCH75-3/mri498ni</td>\n",
       "      <td>s003a1001.nii</td>\n",
       "      <td>[[[  0   0   0 ...   0   0   0]\\n  [  0   0   ...</td>\n",
       "      <td>1.0</td>\n",
       "    </tr>\n",
       "    <tr>\n",
       "      <th>1</th>\n",
       "      <td>1</td>\n",
       "      <td>mri431ni</td>\n",
       "      <td>005_T1_SPGR</td>\n",
       "      <td>/root/MRI_DATA/SECONDBATCH75-2/mri431ni/005_T1...</td>\n",
       "      <td>s003a1001.nii</td>\n",
       "      <td>[[[ 8  6 -4 ...  6  4  0]\\n  [ 8  6 -3 ...  6 ...</td>\n",
       "      <td>0.5</td>\n",
       "    </tr>\n",
       "    <tr>\n",
       "      <th>2</th>\n",
       "      <td>2</td>\n",
       "      <td>mri431ni</td>\n",
       "      <td>006_T2_FLAIR</td>\n",
       "      <td>/root/MRI_DATA/SECONDBATCH75-2/mri431ni/006_T2...</td>\n",
       "      <td>s004a1001.nii</td>\n",
       "      <td>[[[-1 -1  0 ...  0  0  0]\\n  [-1 -1  0 ...  0 ...</td>\n",
       "      <td>0.5</td>\n",
       "    </tr>\n",
       "    <tr>\n",
       "      <th>3</th>\n",
       "      <td>3</td>\n",
       "      <td>mri471ni</td>\n",
       "      <td>005_T1_SPGR</td>\n",
       "      <td>/root/MRI_DATA/SECONDBATCH75-3/mri471ni/005_T1...</td>\n",
       "      <td>s003a1001.nii</td>\n",
       "      <td>[[[ -3   7   1 ...   2  -2  -2]\\n  [ -3   7   ...</td>\n",
       "      <td>0.5</td>\n",
       "    </tr>\n",
       "    <tr>\n",
       "      <th>4</th>\n",
       "      <td>4</td>\n",
       "      <td>mri471ni</td>\n",
       "      <td>006_T2_FLAIR</td>\n",
       "      <td>/root/MRI_DATA/SECONDBATCH75-3/mri471ni/006_T2...</td>\n",
       "      <td>s004a1001.nii</td>\n",
       "      <td>[[[-1  1  1 ... -1  0 -2]\\n  [-1  1  1 ... -1 ...</td>\n",
       "      <td>0.5</td>\n",
       "    </tr>\n",
       "    <tr>\n",
       "      <th>...</th>\n",
       "      <td>...</td>\n",
       "      <td>...</td>\n",
       "      <td>...</td>\n",
       "      <td>...</td>\n",
       "      <td>...</td>\n",
       "      <td>...</td>\n",
       "      <td>...</td>\n",
       "    </tr>\n",
       "    <tr>\n",
       "      <th>2192</th>\n",
       "      <td>2192</td>\n",
       "      <td>mri1216ni</td>\n",
       "      <td>NACC989543</td>\n",
       "      <td>/root/MRI_DATA/SECONDBATCH75-9/mri1216ni/NACC9...</td>\n",
       "      <td>s002a1000.nii</td>\n",
       "      <td>[[[0 0 0 ... 0 0 0]\\n  [0 0 0 ... 0 0 0]\\n  [0...</td>\n",
       "      <td>1.0</td>\n",
       "    </tr>\n",
       "    <tr>\n",
       "      <th>2193</th>\n",
       "      <td>2193</td>\n",
       "      <td>mri574ni</td>\n",
       "      <td>NACC989915</td>\n",
       "      <td>/root/MRI_DATA/SECONDBATCH75-4/mri574ni/NACC98...</td>\n",
       "      <td>s004a1000.nii</td>\n",
       "      <td>[[[[ 0  0  0 ...  0  0  0]\\n   [ 0  0  0 ...  ...</td>\n",
       "      <td>3.0</td>\n",
       "    </tr>\n",
       "    <tr>\n",
       "      <th>2194</th>\n",
       "      <td>2194</td>\n",
       "      <td>mri1176ni</td>\n",
       "      <td>NACC992575</td>\n",
       "      <td>/root/MRI_DATA/SECONDBATCH75-9/mri1176ni/NACC9...</td>\n",
       "      <td>s002a1000.nii</td>\n",
       "      <td>[[[0 0 0 ... 0 0 0]\\n  [0 0 0 ... 0 0 0]\\n  [0...</td>\n",
       "      <td>0.5</td>\n",
       "    </tr>\n",
       "    <tr>\n",
       "      <th>2195</th>\n",
       "      <td>2195</td>\n",
       "      <td>mri1081ni</td>\n",
       "      <td>NACC996694</td>\n",
       "      <td>/root/MRI_DATA/SECONDBATCH75-7/mri1081ni/NACC9...</td>\n",
       "      <td>s004a1000.nii</td>\n",
       "      <td>[[[[ 0  0  0 ...  0  0  0]\\n   [ 0  0  0 ...  ...</td>\n",
       "      <td>1.0</td>\n",
       "    </tr>\n",
       "    <tr>\n",
       "      <th>2196</th>\n",
       "      <td>2196</td>\n",
       "      <td>mri960ni</td>\n",
       "      <td>NACC996954</td>\n",
       "      <td>/root/MRI_DATA/SECONDBATCH75-6/mri960ni/NACC99...</td>\n",
       "      <td>s004a1000.nii</td>\n",
       "      <td>[[[[  0   0   0 ...   0   0   0]\\n   [  0   0 ...</td>\n",
       "      <td>2.0</td>\n",
       "    </tr>\n",
       "  </tbody>\n",
       "</table>\n",
       "<p>2197 rows × 7 columns</p>\n",
       "</div>"
      ],
      "text/plain": [
       "      Unnamed: 0  mrinumber       mritype  \\\n",
       "0              0   mri498ni           NaN   \n",
       "1              1   mri431ni   005_T1_SPGR   \n",
       "2              2   mri431ni  006_T2_FLAIR   \n",
       "3              3   mri471ni   005_T1_SPGR   \n",
       "4              4   mri471ni  006_T2_FLAIR   \n",
       "...          ...        ...           ...   \n",
       "2192        2192  mri1216ni    NACC989543   \n",
       "2193        2193   mri574ni    NACC989915   \n",
       "2194        2194  mri1176ni    NACC992575   \n",
       "2195        2195  mri1081ni    NACC996694   \n",
       "2196        2196   mri960ni    NACC996954   \n",
       "\n",
       "                                               fullpath       filename  \\\n",
       "0               /root/MRI_DATA/SECONDBATCH75-3/mri498ni  s003a1001.nii   \n",
       "1     /root/MRI_DATA/SECONDBATCH75-2/mri431ni/005_T1...  s003a1001.nii   \n",
       "2     /root/MRI_DATA/SECONDBATCH75-2/mri431ni/006_T2...  s004a1001.nii   \n",
       "3     /root/MRI_DATA/SECONDBATCH75-3/mri471ni/005_T1...  s003a1001.nii   \n",
       "4     /root/MRI_DATA/SECONDBATCH75-3/mri471ni/006_T2...  s004a1001.nii   \n",
       "...                                                 ...            ...   \n",
       "2192  /root/MRI_DATA/SECONDBATCH75-9/mri1216ni/NACC9...  s002a1000.nii   \n",
       "2193  /root/MRI_DATA/SECONDBATCH75-4/mri574ni/NACC98...  s004a1000.nii   \n",
       "2194  /root/MRI_DATA/SECONDBATCH75-9/mri1176ni/NACC9...  s002a1000.nii   \n",
       "2195  /root/MRI_DATA/SECONDBATCH75-7/mri1081ni/NACC9...  s004a1000.nii   \n",
       "2196  /root/MRI_DATA/SECONDBATCH75-6/mri960ni/NACC99...  s004a1000.nii   \n",
       "\n",
       "                                                  array  CDRGLOB  \n",
       "0     [[[  0   0   0 ...   0   0   0]\\n  [  0   0   ...      1.0  \n",
       "1     [[[ 8  6 -4 ...  6  4  0]\\n  [ 8  6 -3 ...  6 ...      0.5  \n",
       "2     [[[-1 -1  0 ...  0  0  0]\\n  [-1 -1  0 ...  0 ...      0.5  \n",
       "3     [[[ -3   7   1 ...   2  -2  -2]\\n  [ -3   7   ...      0.5  \n",
       "4     [[[-1  1  1 ... -1  0 -2]\\n  [-1  1  1 ... -1 ...      0.5  \n",
       "...                                                 ...      ...  \n",
       "2192  [[[0 0 0 ... 0 0 0]\\n  [0 0 0 ... 0 0 0]\\n  [0...      1.0  \n",
       "2193  [[[[ 0  0  0 ...  0  0  0]\\n   [ 0  0  0 ...  ...      3.0  \n",
       "2194  [[[0 0 0 ... 0 0 0]\\n  [0 0 0 ... 0 0 0]\\n  [0...      0.5  \n",
       "2195  [[[[ 0  0  0 ...  0  0  0]\\n   [ 0  0  0 ...  ...      1.0  \n",
       "2196  [[[[  0   0   0 ...   0   0   0]\\n   [  0   0 ...      2.0  \n",
       "\n",
       "[2197 rows x 7 columns]"
      ]
     },
     "execution_count": 29,
     "metadata": {},
     "output_type": "execute_result"
    }
   ],
   "source": [
    "trial"
   ]
  },
  {
   "cell_type": "code",
   "execution_count": 30,
   "metadata": {},
   "outputs": [
    {
     "data": {
      "text/plain": [
       "Index(['Unnamed: 0', 'mrinumber', 'mritype', 'fullpath', 'filename', 'array',\n",
       "       'CDRGLOB'],\n",
       "      dtype='object')"
      ]
     },
     "execution_count": 30,
     "metadata": {},
     "output_type": "execute_result"
    }
   ],
   "source": [
    "trial.columns"
   ]
  },
  {
   "cell_type": "code",
   "execution_count": 31,
   "metadata": {},
   "outputs": [
    {
     "data": {
      "text/plain": [
       "Unnamed: 0      int64\n",
       "mrinumber      object\n",
       "mritype        object\n",
       "fullpath       object\n",
       "filename       object\n",
       "array          object\n",
       "CDRGLOB       float64\n",
       "dtype: object"
      ]
     },
     "execution_count": 31,
     "metadata": {},
     "output_type": "execute_result"
    }
   ],
   "source": [
    "trial.dtypes"
   ]
  },
  {
   "cell_type": "code",
   "execution_count": 32,
   "metadata": {},
   "outputs": [],
   "source": [
    "strial=trial[['mritype','array',\n",
    "       'CDRGLOB']]"
   ]
  },
  {
   "cell_type": "code",
   "execution_count": 33,
   "metadata": {},
   "outputs": [
    {
     "data": {
      "text/html": [
       "<div>\n",
       "<style scoped>\n",
       "    .dataframe tbody tr th:only-of-type {\n",
       "        vertical-align: middle;\n",
       "    }\n",
       "\n",
       "    .dataframe tbody tr th {\n",
       "        vertical-align: top;\n",
       "    }\n",
       "\n",
       "    .dataframe thead th {\n",
       "        text-align: right;\n",
       "    }\n",
       "</style>\n",
       "<table border=\"1\" class=\"dataframe\">\n",
       "  <thead>\n",
       "    <tr style=\"text-align: right;\">\n",
       "      <th></th>\n",
       "      <th>mritype</th>\n",
       "      <th>array</th>\n",
       "      <th>CDRGLOB</th>\n",
       "    </tr>\n",
       "  </thead>\n",
       "  <tbody>\n",
       "    <tr>\n",
       "      <th>0</th>\n",
       "      <td>NaN</td>\n",
       "      <td>[[[  0   0   0 ...   0   0   0]\\n  [  0   0   ...</td>\n",
       "      <td>1.0</td>\n",
       "    </tr>\n",
       "    <tr>\n",
       "      <th>1</th>\n",
       "      <td>005_T1_SPGR</td>\n",
       "      <td>[[[ 8  6 -4 ...  6  4  0]\\n  [ 8  6 -3 ...  6 ...</td>\n",
       "      <td>0.5</td>\n",
       "    </tr>\n",
       "    <tr>\n",
       "      <th>2</th>\n",
       "      <td>006_T2_FLAIR</td>\n",
       "      <td>[[[-1 -1  0 ...  0  0  0]\\n  [-1 -1  0 ...  0 ...</td>\n",
       "      <td>0.5</td>\n",
       "    </tr>\n",
       "    <tr>\n",
       "      <th>3</th>\n",
       "      <td>005_T1_SPGR</td>\n",
       "      <td>[[[ -3   7   1 ...   2  -2  -2]\\n  [ -3   7   ...</td>\n",
       "      <td>0.5</td>\n",
       "    </tr>\n",
       "    <tr>\n",
       "      <th>4</th>\n",
       "      <td>006_T2_FLAIR</td>\n",
       "      <td>[[[-1  1  1 ... -1  0 -2]\\n  [-1  1  1 ... -1 ...</td>\n",
       "      <td>0.5</td>\n",
       "    </tr>\n",
       "    <tr>\n",
       "      <th>...</th>\n",
       "      <td>...</td>\n",
       "      <td>...</td>\n",
       "      <td>...</td>\n",
       "    </tr>\n",
       "    <tr>\n",
       "      <th>2192</th>\n",
       "      <td>NACC989543</td>\n",
       "      <td>[[[0 0 0 ... 0 0 0]\\n  [0 0 0 ... 0 0 0]\\n  [0...</td>\n",
       "      <td>1.0</td>\n",
       "    </tr>\n",
       "    <tr>\n",
       "      <th>2193</th>\n",
       "      <td>NACC989915</td>\n",
       "      <td>[[[[ 0  0  0 ...  0  0  0]\\n   [ 0  0  0 ...  ...</td>\n",
       "      <td>3.0</td>\n",
       "    </tr>\n",
       "    <tr>\n",
       "      <th>2194</th>\n",
       "      <td>NACC992575</td>\n",
       "      <td>[[[0 0 0 ... 0 0 0]\\n  [0 0 0 ... 0 0 0]\\n  [0...</td>\n",
       "      <td>0.5</td>\n",
       "    </tr>\n",
       "    <tr>\n",
       "      <th>2195</th>\n",
       "      <td>NACC996694</td>\n",
       "      <td>[[[[ 0  0  0 ...  0  0  0]\\n   [ 0  0  0 ...  ...</td>\n",
       "      <td>1.0</td>\n",
       "    </tr>\n",
       "    <tr>\n",
       "      <th>2196</th>\n",
       "      <td>NACC996954</td>\n",
       "      <td>[[[[  0   0   0 ...   0   0   0]\\n   [  0   0 ...</td>\n",
       "      <td>2.0</td>\n",
       "    </tr>\n",
       "  </tbody>\n",
       "</table>\n",
       "<p>2197 rows × 3 columns</p>\n",
       "</div>"
      ],
      "text/plain": [
       "           mritype                                              array  CDRGLOB\n",
       "0              NaN  [[[  0   0   0 ...   0   0   0]\\n  [  0   0   ...      1.0\n",
       "1      005_T1_SPGR  [[[ 8  6 -4 ...  6  4  0]\\n  [ 8  6 -3 ...  6 ...      0.5\n",
       "2     006_T2_FLAIR  [[[-1 -1  0 ...  0  0  0]\\n  [-1 -1  0 ...  0 ...      0.5\n",
       "3      005_T1_SPGR  [[[ -3   7   1 ...   2  -2  -2]\\n  [ -3   7   ...      0.5\n",
       "4     006_T2_FLAIR  [[[-1  1  1 ... -1  0 -2]\\n  [-1  1  1 ... -1 ...      0.5\n",
       "...            ...                                                ...      ...\n",
       "2192    NACC989543  [[[0 0 0 ... 0 0 0]\\n  [0 0 0 ... 0 0 0]\\n  [0...      1.0\n",
       "2193    NACC989915  [[[[ 0  0  0 ...  0  0  0]\\n   [ 0  0  0 ...  ...      3.0\n",
       "2194    NACC992575  [[[0 0 0 ... 0 0 0]\\n  [0 0 0 ... 0 0 0]\\n  [0...      0.5\n",
       "2195    NACC996694  [[[[ 0  0  0 ...  0  0  0]\\n   [ 0  0  0 ...  ...      1.0\n",
       "2196    NACC996954  [[[[  0   0   0 ...   0   0   0]\\n   [  0   0 ...      2.0\n",
       "\n",
       "[2197 rows x 3 columns]"
      ]
     },
     "execution_count": 33,
     "metadata": {},
     "output_type": "execute_result"
    }
   ],
   "source": [
    "strial"
   ]
  },
  {
   "cell_type": "code",
   "execution_count": 34,
   "metadata": {},
   "outputs": [],
   "source": [
    "ttrial=strial[['array',\n",
    "       'CDRGLOB']]"
   ]
  },
  {
   "cell_type": "code",
   "execution_count": 35,
   "metadata": {},
   "outputs": [
    {
     "data": {
      "text/plain": [
       "array       object\n",
       "CDRGLOB    float64\n",
       "dtype: object"
      ]
     },
     "execution_count": 35,
     "metadata": {},
     "output_type": "execute_result"
    }
   ],
   "source": [
    "ttrial.dtypes"
   ]
  },
  {
   "cell_type": "code",
   "execution_count": 43,
   "metadata": {},
   "outputs": [
    {
     "ename": "ValueError",
     "evalue": "could not convert string to float: '[[[  0   0   0 ...   0   0   0]\\n  [  0   0   0 ...   0   0   0]\\n  [  0   0   0 ...   0   0   0]\\n  ...\\n  [  0   0   0 ...   0   0   0]\\n  [  0   0   0 ...   0   0   0]\\n  [  0   0   0 ...   0   0   0]]\\n\\n [[ 19  14  28 ...  23  27  40]\\n  [ 30  26  24 ...  37  31  31]\\n  [ 25  26  28 ...  27  28  27]\\n  ...\\n  [  7   5   1 ...   3   4   2]\\n  [  1   2   4 ...   4   2   1]\\n  [  0   0   0 ...   0   0   0]]\\n\\n [[ 25  26  26 ...  29  33  33]\\n  [ 38  29  25 ...  32  36  30]\\n  [ 38  22  19 ...  40  30  29]\\n  ...\\n  [  4   4   1 ...   6   4   1]\\n  [  4   4   0 ...   7   4   3]\\n  [  0   0   0 ...   0   0   0]]\\n\\n ...\\n\\n [[232 164 205 ... 263 281 172]\\n  [232 170 171 ... 243 254 293]\\n  [168 282 153 ... 218 232 259]\\n  ...\\n  [  3   1   1 ...   4   2   1]\\n  [  9   5   6 ...   2   0   9]\\n  [  0   0   0 ...   0   0   0]]\\n\\n [[232 184 154 ... 200 200 198]\\n  [196 141 195 ... 196 277 238]\\n  [256 282 235 ... 251 227 184]\\n  ...\\n  [  2   6   2 ...   1   5   1]\\n  [  8   5   7 ...   3   4   6]\\n  [  0   0   0 ...   0   0   0]]\\n\\n [[178 236 186 ... 287 209 164]\\n  [144 142 205 ... 249 244 141]\\n  [225 200 221 ... 294 279 268]\\n  ...\\n  [  1   4   3 ...   5   1   5]\\n  [  6   3   7 ...   2   0   7]\\n  [  0   0   0 ...   0   0   0]]]'",
     "output_type": "error",
     "traceback": [
      "\u001b[0;31m---------------------------------------------------------------------------\u001b[0m",
      "\u001b[0;31mValueError\u001b[0m                                Traceback (most recent call last)",
      "\u001b[0;32m<ipython-input-43-d7338590e858>\u001b[0m in \u001b[0;36m<module>\u001b[0;34m\u001b[0m\n\u001b[0;32m----> 1\u001b[0;31m \u001b[0mttrial\u001b[0m\u001b[0;34m[\u001b[0m\u001b[0;34m'array'\u001b[0m\u001b[0;34m]\u001b[0m\u001b[0;34m.\u001b[0m\u001b[0mastype\u001b[0m\u001b[0;34m(\u001b[0m\u001b[0mfloat\u001b[0m\u001b[0;34m)\u001b[0m\u001b[0;34m\u001b[0m\u001b[0;34m\u001b[0m\u001b[0m\n\u001b[0m",
      "\u001b[0;32m~/anaconda3/lib/python3.7/site-packages/pandas/core/generic.py\u001b[0m in \u001b[0;36mastype\u001b[0;34m(self, dtype, copy, errors)\u001b[0m\n\u001b[1;32m   5695\u001b[0m         \u001b[0;32melse\u001b[0m\u001b[0;34m:\u001b[0m\u001b[0;34m\u001b[0m\u001b[0;34m\u001b[0m\u001b[0m\n\u001b[1;32m   5696\u001b[0m             \u001b[0;31m# else, only a single dtype is given\u001b[0m\u001b[0;34m\u001b[0m\u001b[0;34m\u001b[0m\u001b[0;34m\u001b[0m\u001b[0m\n\u001b[0;32m-> 5697\u001b[0;31m             \u001b[0mnew_data\u001b[0m \u001b[0;34m=\u001b[0m \u001b[0mself\u001b[0m\u001b[0;34m.\u001b[0m\u001b[0m_data\u001b[0m\u001b[0;34m.\u001b[0m\u001b[0mastype\u001b[0m\u001b[0;34m(\u001b[0m\u001b[0mdtype\u001b[0m\u001b[0;34m=\u001b[0m\u001b[0mdtype\u001b[0m\u001b[0;34m,\u001b[0m \u001b[0mcopy\u001b[0m\u001b[0;34m=\u001b[0m\u001b[0mcopy\u001b[0m\u001b[0;34m,\u001b[0m \u001b[0merrors\u001b[0m\u001b[0;34m=\u001b[0m\u001b[0merrors\u001b[0m\u001b[0;34m)\u001b[0m\u001b[0;34m\u001b[0m\u001b[0;34m\u001b[0m\u001b[0m\n\u001b[0m\u001b[1;32m   5698\u001b[0m             \u001b[0;32mreturn\u001b[0m \u001b[0mself\u001b[0m\u001b[0;34m.\u001b[0m\u001b[0m_constructor\u001b[0m\u001b[0;34m(\u001b[0m\u001b[0mnew_data\u001b[0m\u001b[0;34m)\u001b[0m\u001b[0;34m.\u001b[0m\u001b[0m__finalize__\u001b[0m\u001b[0;34m(\u001b[0m\u001b[0mself\u001b[0m\u001b[0;34m)\u001b[0m\u001b[0;34m\u001b[0m\u001b[0;34m\u001b[0m\u001b[0m\n\u001b[1;32m   5699\u001b[0m \u001b[0;34m\u001b[0m\u001b[0m\n",
      "\u001b[0;32m~/anaconda3/lib/python3.7/site-packages/pandas/core/internals/managers.py\u001b[0m in \u001b[0;36mastype\u001b[0;34m(self, dtype, copy, errors)\u001b[0m\n\u001b[1;32m    580\u001b[0m \u001b[0;34m\u001b[0m\u001b[0m\n\u001b[1;32m    581\u001b[0m     \u001b[0;32mdef\u001b[0m \u001b[0mastype\u001b[0m\u001b[0;34m(\u001b[0m\u001b[0mself\u001b[0m\u001b[0;34m,\u001b[0m \u001b[0mdtype\u001b[0m\u001b[0;34m,\u001b[0m \u001b[0mcopy\u001b[0m\u001b[0;34m:\u001b[0m \u001b[0mbool\u001b[0m \u001b[0;34m=\u001b[0m \u001b[0;32mFalse\u001b[0m\u001b[0;34m,\u001b[0m \u001b[0merrors\u001b[0m\u001b[0;34m:\u001b[0m \u001b[0mstr\u001b[0m \u001b[0;34m=\u001b[0m \u001b[0;34m\"raise\"\u001b[0m\u001b[0;34m)\u001b[0m\u001b[0;34m:\u001b[0m\u001b[0;34m\u001b[0m\u001b[0;34m\u001b[0m\u001b[0m\n\u001b[0;32m--> 582\u001b[0;31m         \u001b[0;32mreturn\u001b[0m \u001b[0mself\u001b[0m\u001b[0;34m.\u001b[0m\u001b[0mapply\u001b[0m\u001b[0;34m(\u001b[0m\u001b[0;34m\"astype\"\u001b[0m\u001b[0;34m,\u001b[0m \u001b[0mdtype\u001b[0m\u001b[0;34m=\u001b[0m\u001b[0mdtype\u001b[0m\u001b[0;34m,\u001b[0m \u001b[0mcopy\u001b[0m\u001b[0;34m=\u001b[0m\u001b[0mcopy\u001b[0m\u001b[0;34m,\u001b[0m \u001b[0merrors\u001b[0m\u001b[0;34m=\u001b[0m\u001b[0merrors\u001b[0m\u001b[0;34m)\u001b[0m\u001b[0;34m\u001b[0m\u001b[0;34m\u001b[0m\u001b[0m\n\u001b[0m\u001b[1;32m    583\u001b[0m \u001b[0;34m\u001b[0m\u001b[0m\n\u001b[1;32m    584\u001b[0m     \u001b[0;32mdef\u001b[0m \u001b[0mconvert\u001b[0m\u001b[0;34m(\u001b[0m\u001b[0mself\u001b[0m\u001b[0;34m,\u001b[0m \u001b[0;34m**\u001b[0m\u001b[0mkwargs\u001b[0m\u001b[0;34m)\u001b[0m\u001b[0;34m:\u001b[0m\u001b[0;34m\u001b[0m\u001b[0;34m\u001b[0m\u001b[0m\n",
      "\u001b[0;32m~/anaconda3/lib/python3.7/site-packages/pandas/core/internals/managers.py\u001b[0m in \u001b[0;36mapply\u001b[0;34m(self, f, filter, **kwargs)\u001b[0m\n\u001b[1;32m    440\u001b[0m                 \u001b[0mapplied\u001b[0m \u001b[0;34m=\u001b[0m \u001b[0mb\u001b[0m\u001b[0;34m.\u001b[0m\u001b[0mapply\u001b[0m\u001b[0;34m(\u001b[0m\u001b[0mf\u001b[0m\u001b[0;34m,\u001b[0m \u001b[0;34m**\u001b[0m\u001b[0mkwargs\u001b[0m\u001b[0;34m)\u001b[0m\u001b[0;34m\u001b[0m\u001b[0;34m\u001b[0m\u001b[0m\n\u001b[1;32m    441\u001b[0m             \u001b[0;32melse\u001b[0m\u001b[0;34m:\u001b[0m\u001b[0;34m\u001b[0m\u001b[0;34m\u001b[0m\u001b[0m\n\u001b[0;32m--> 442\u001b[0;31m                 \u001b[0mapplied\u001b[0m \u001b[0;34m=\u001b[0m \u001b[0mgetattr\u001b[0m\u001b[0;34m(\u001b[0m\u001b[0mb\u001b[0m\u001b[0;34m,\u001b[0m \u001b[0mf\u001b[0m\u001b[0;34m)\u001b[0m\u001b[0;34m(\u001b[0m\u001b[0;34m**\u001b[0m\u001b[0mkwargs\u001b[0m\u001b[0;34m)\u001b[0m\u001b[0;34m\u001b[0m\u001b[0;34m\u001b[0m\u001b[0m\n\u001b[0m\u001b[1;32m    443\u001b[0m             \u001b[0mresult_blocks\u001b[0m \u001b[0;34m=\u001b[0m \u001b[0m_extend_blocks\u001b[0m\u001b[0;34m(\u001b[0m\u001b[0mapplied\u001b[0m\u001b[0;34m,\u001b[0m \u001b[0mresult_blocks\u001b[0m\u001b[0;34m)\u001b[0m\u001b[0;34m\u001b[0m\u001b[0;34m\u001b[0m\u001b[0m\n\u001b[1;32m    444\u001b[0m \u001b[0;34m\u001b[0m\u001b[0m\n",
      "\u001b[0;32m~/anaconda3/lib/python3.7/site-packages/pandas/core/internals/blocks.py\u001b[0m in \u001b[0;36mastype\u001b[0;34m(self, dtype, copy, errors)\u001b[0m\n\u001b[1;32m    623\u001b[0m             \u001b[0mvals1d\u001b[0m \u001b[0;34m=\u001b[0m \u001b[0mvalues\u001b[0m\u001b[0;34m.\u001b[0m\u001b[0mravel\u001b[0m\u001b[0;34m(\u001b[0m\u001b[0;34m)\u001b[0m\u001b[0;34m\u001b[0m\u001b[0;34m\u001b[0m\u001b[0m\n\u001b[1;32m    624\u001b[0m             \u001b[0;32mtry\u001b[0m\u001b[0;34m:\u001b[0m\u001b[0;34m\u001b[0m\u001b[0;34m\u001b[0m\u001b[0m\n\u001b[0;32m--> 625\u001b[0;31m                 \u001b[0mvalues\u001b[0m \u001b[0;34m=\u001b[0m \u001b[0mastype_nansafe\u001b[0m\u001b[0;34m(\u001b[0m\u001b[0mvals1d\u001b[0m\u001b[0;34m,\u001b[0m \u001b[0mdtype\u001b[0m\u001b[0;34m,\u001b[0m \u001b[0mcopy\u001b[0m\u001b[0;34m=\u001b[0m\u001b[0;32mTrue\u001b[0m\u001b[0;34m)\u001b[0m\u001b[0;34m\u001b[0m\u001b[0;34m\u001b[0m\u001b[0m\n\u001b[0m\u001b[1;32m    626\u001b[0m             \u001b[0;32mexcept\u001b[0m \u001b[0;34m(\u001b[0m\u001b[0mValueError\u001b[0m\u001b[0;34m,\u001b[0m \u001b[0mTypeError\u001b[0m\u001b[0;34m)\u001b[0m\u001b[0;34m:\u001b[0m\u001b[0;34m\u001b[0m\u001b[0;34m\u001b[0m\u001b[0m\n\u001b[1;32m    627\u001b[0m                 \u001b[0;31m# e.g. astype_nansafe can fail on object-dtype of strings\u001b[0m\u001b[0;34m\u001b[0m\u001b[0;34m\u001b[0m\u001b[0;34m\u001b[0m\u001b[0m\n",
      "\u001b[0;32m~/anaconda3/lib/python3.7/site-packages/pandas/core/dtypes/cast.py\u001b[0m in \u001b[0;36mastype_nansafe\u001b[0;34m(arr, dtype, copy, skipna)\u001b[0m\n\u001b[1;32m    895\u001b[0m     \u001b[0;32mif\u001b[0m \u001b[0mcopy\u001b[0m \u001b[0;32mor\u001b[0m \u001b[0mis_object_dtype\u001b[0m\u001b[0;34m(\u001b[0m\u001b[0marr\u001b[0m\u001b[0;34m)\u001b[0m \u001b[0;32mor\u001b[0m \u001b[0mis_object_dtype\u001b[0m\u001b[0;34m(\u001b[0m\u001b[0mdtype\u001b[0m\u001b[0;34m)\u001b[0m\u001b[0;34m:\u001b[0m\u001b[0;34m\u001b[0m\u001b[0;34m\u001b[0m\u001b[0m\n\u001b[1;32m    896\u001b[0m         \u001b[0;31m# Explicit copy, or required since NumPy can't view from / to object.\u001b[0m\u001b[0;34m\u001b[0m\u001b[0;34m\u001b[0m\u001b[0;34m\u001b[0m\u001b[0m\n\u001b[0;32m--> 897\u001b[0;31m         \u001b[0;32mreturn\u001b[0m \u001b[0marr\u001b[0m\u001b[0;34m.\u001b[0m\u001b[0mastype\u001b[0m\u001b[0;34m(\u001b[0m\u001b[0mdtype\u001b[0m\u001b[0;34m,\u001b[0m \u001b[0mcopy\u001b[0m\u001b[0;34m=\u001b[0m\u001b[0;32mTrue\u001b[0m\u001b[0;34m)\u001b[0m\u001b[0;34m\u001b[0m\u001b[0;34m\u001b[0m\u001b[0m\n\u001b[0m\u001b[1;32m    898\u001b[0m \u001b[0;34m\u001b[0m\u001b[0m\n\u001b[1;32m    899\u001b[0m     \u001b[0;32mreturn\u001b[0m \u001b[0marr\u001b[0m\u001b[0;34m.\u001b[0m\u001b[0mview\u001b[0m\u001b[0;34m(\u001b[0m\u001b[0mdtype\u001b[0m\u001b[0;34m)\u001b[0m\u001b[0;34m\u001b[0m\u001b[0;34m\u001b[0m\u001b[0m\n",
      "\u001b[0;31mValueError\u001b[0m: could not convert string to float: '[[[  0   0   0 ...   0   0   0]\\n  [  0   0   0 ...   0   0   0]\\n  [  0   0   0 ...   0   0   0]\\n  ...\\n  [  0   0   0 ...   0   0   0]\\n  [  0   0   0 ...   0   0   0]\\n  [  0   0   0 ...   0   0   0]]\\n\\n [[ 19  14  28 ...  23  27  40]\\n  [ 30  26  24 ...  37  31  31]\\n  [ 25  26  28 ...  27  28  27]\\n  ...\\n  [  7   5   1 ...   3   4   2]\\n  [  1   2   4 ...   4   2   1]\\n  [  0   0   0 ...   0   0   0]]\\n\\n [[ 25  26  26 ...  29  33  33]\\n  [ 38  29  25 ...  32  36  30]\\n  [ 38  22  19 ...  40  30  29]\\n  ...\\n  [  4   4   1 ...   6   4   1]\\n  [  4   4   0 ...   7   4   3]\\n  [  0   0   0 ...   0   0   0]]\\n\\n ...\\n\\n [[232 164 205 ... 263 281 172]\\n  [232 170 171 ... 243 254 293]\\n  [168 282 153 ... 218 232 259]\\n  ...\\n  [  3   1   1 ...   4   2   1]\\n  [  9   5   6 ...   2   0   9]\\n  [  0   0   0 ...   0   0   0]]\\n\\n [[232 184 154 ... 200 200 198]\\n  [196 141 195 ... 196 277 238]\\n  [256 282 235 ... 251 227 184]\\n  ...\\n  [  2   6   2 ...   1   5   1]\\n  [  8   5   7 ...   3   4   6]\\n  [  0   0   0 ...   0   0   0]]\\n\\n [[178 236 186 ... 287 209 164]\\n  [144 142 205 ... 249 244 141]\\n  [225 200 221 ... 294 279 268]\\n  ...\\n  [  1   4   3 ...   5   1   5]\\n  [  6   3   7 ...   2   0   7]\\n  [  0   0   0 ...   0   0   0]]]'"
     ]
    }
   ],
   "source": [
    "ttrial['array'].astype(float)"
   ]
  },
  {
   "cell_type": "code",
   "execution_count": 39,
   "metadata": {},
   "outputs": [],
   "source": [
    "tstrial=ttrial.to_numpy()"
   ]
  },
  {
   "cell_type": "code",
   "execution_count": 45,
   "metadata": {},
   "outputs": [],
   "source": [
    "ntrial=strial[['array']]"
   ]
  },
  {
   "cell_type": "code",
   "execution_count": 48,
   "metadata": {},
   "outputs": [
    {
     "name": "stderr",
     "output_type": "stream",
     "text": [
      "/root/anaconda3/lib/python3.7/site-packages/ipykernel_launcher.py:1: SettingWithCopyWarning: \n",
      "A value is trying to be set on a copy of a slice from a DataFrame.\n",
      "Try using .loc[row_indexer,col_indexer] = value instead\n",
      "\n",
      "See the caveats in the documentation: https://pandas.pydata.org/pandas-docs/stable/user_guide/indexing.html#returning-a-view-versus-a-copy\n",
      "  \"\"\"Entry point for launching an IPython kernel.\n"
     ]
    }
   ],
   "source": [
    "\n",
    "#ntrial2['array']=ntrial.array.str.replace(',','.')"
   ]
  },
  {
   "cell_type": "code",
   "execution_count": 51,
   "metadata": {},
   "outputs": [
    {
     "data": {
      "text/plain": [
       "array([['[[[  0   0   0 ...   0   0   0]\\n  [  0   0   0 ...   0   0   0]\\n  [  0   0   0 ...   0   0   0]\\n  ...\\n  [  0   0   0 ...   0   0   0]\\n  [  0   0   0 ...   0   0   0]\\n  [  0   0   0 ...   0   0   0]]\\n\\n [[ 19  14  28 ...  23  27  40]\\n  [ 30  26  24 ...  37  31  31]\\n  [ 25  26  28 ...  27  28  27]\\n  ...\\n  [  7   5   1 ...   3   4   2]\\n  [  1   2   4 ...   4   2   1]\\n  [  0   0   0 ...   0   0   0]]\\n\\n [[ 25  26  26 ...  29  33  33]\\n  [ 38  29  25 ...  32  36  30]\\n  [ 38  22  19 ...  40  30  29]\\n  ...\\n  [  4   4   1 ...   6   4   1]\\n  [  4   4   0 ...   7   4   3]\\n  [  0   0   0 ...   0   0   0]]\\n\\n ...\\n\\n [[232 164 205 ... 263 281 172]\\n  [232 170 171 ... 243 254 293]\\n  [168 282 153 ... 218 232 259]\\n  ...\\n  [  3   1   1 ...   4   2   1]\\n  [  9   5   6 ...   2   0   9]\\n  [  0   0   0 ...   0   0   0]]\\n\\n [[232 184 154 ... 200 200 198]\\n  [196 141 195 ... 196 277 238]\\n  [256 282 235 ... 251 227 184]\\n  ...\\n  [  2   6   2 ...   1   5   1]\\n  [  8   5   7 ...   3   4   6]\\n  [  0   0   0 ...   0   0   0]]\\n\\n [[178 236 186 ... 287 209 164]\\n  [144 142 205 ... 249 244 141]\\n  [225 200 221 ... 294 279 268]\\n  ...\\n  [  1   4   3 ...   5   1   5]\\n  [  6   3   7 ...   2   0   7]\\n  [  0   0   0 ...   0   0   0]]]'],\n",
       "       ['[[[ 8  6 -4 ...  6  4  0]\\n  [ 8  6 -3 ...  6  5  1]\\n  [ 4 -2 -7 ...  0  5 -1]\\n  ...\\n  [ 3  0 -3 ...  0  2  0]\\n  [ 0 -4 -1 ...  0  1  2]\\n  [-2 -7  2 ... -1  0  3]]\\n\\n [[ 3  1 -4 ...  2  4  3]\\n  [ 3  1 -4 ...  2  5  3]\\n  [ 0 -3  0 ... -1  2 -1]\\n  ...\\n  [ 2  1 -1 ... -2  0  1]\\n  [ 0 -2  1 ... -2  0  2]\\n  [-2 -5  1 ... -1  0  3]]\\n\\n [[-4 -4 -2 ... -3  4  6]\\n  [-4 -4 -3 ... -3  4  5]\\n  [-7 -4  7 ... -4 -1  3]\\n  ...\\n  [ 0  1  2 ... -5 -3  2]\\n  [-1  0  1 ... -3 -1  2]\\n  [-2 -2  0 ... -1  0  1]]\\n\\n ...\\n\\n [[-6  7  9 ... -3  1  2]\\n  [14 22 26 ... 24 30 32]\\n  [23 33 40 ... 27 20 25]\\n  ...\\n  [-3 -5 -3 ... -1  0 -3]\\n  [-2 -4 -1 ... -3 -4  1]\\n  [ 5  4  0 ...  3  5  0]]\\n\\n [[ 1  5  0 ... -2  5 -7]\\n  [15 21 16 ... 21 31 18]\\n  [15 20 40 ... 27 25 17]\\n  ...\\n  [-2 -6  4 ...  1  0  2]\\n  [-2 -5 -1 ...  0 -2 -4]\\n  [ 5  4  5 ...  4  5  4]]\\n\\n [[ 2  4 -6 ... -3  3 -6]\\n  [14 20 14 ... 20 30 12]\\n  [14 28 14 ... 32 27 17]\\n  ...\\n  [-2 -7  5 ...  0 -2  3]\\n  [-2 -6 -3 ...  0 -4 -3]\\n  [ 4  4  6 ...  4  5  5]]]'],\n",
       "       ['[[[-1 -1  0 ...  0  0  0]\\n  [-1 -1  0 ...  0  0  0]\\n  [-2 -1  0 ... -1  0  0]\\n  ...\\n  [ 0  0  0 ...  0  0  0]\\n  [ 0  0  0 ...  0  0  1]\\n  [-1  0  0 ...  0 -1  1]]\\n\\n [[-1  0  0 ...  0  0  0]\\n  [-1  0  0 ...  0  0  0]\\n  [-1 -1  0 ... -1  0  0]\\n  ...\\n  [ 1  0  0 ...  0  0  0]\\n  [ 0  0  0 ...  0  0  1]\\n  [-1  0  0 ...  0 -1  1]]\\n\\n [[ 0  0  0 ...  0 -1  0]\\n  [ 0  0  0 ...  0 -1  0]\\n  [ 0  0 -1 ...  0 -1  0]\\n  ...\\n  [ 1  0  0 ...  0  0  0]\\n  [ 0  0  0 ...  0  0  0]\\n  [ 0  0  0 ...  0 -1  0]]\\n\\n ...\\n\\n [[ 1 -1  0 ... -1  1  0]\\n  [ 1  1  2 ...  3  4  3]\\n  [ 3  5  5 ...  3  5  6]\\n  ...\\n  [ 0  0  0 ... -1 -1  0]\\n  [ 0 -1  0 ...  0 -1  0]\\n  [ 1 -1  1 ...  1  0  1]]\\n\\n [[ 1  0  1 ... -1  0  0]\\n  [ 1  0  1 ...  3  3  3]\\n  [ 4  3  3 ...  4  6  5]\\n  ...\\n  [ 0  0  1 ...  0 -1 -1]\\n  [ 0 -1  0 ...  0 -1  0]\\n  [ 1 -1  0 ...  1  1  2]]\\n\\n [[ 1  0  1 ...  0  0  0]\\n  [ 1  0  1 ...  3  3  3]\\n  [ 4  3  4 ...  2  5  5]\\n  ...\\n  [ 0  1  1 ...  0 -1  0]\\n  [ 0 -1  0 ...  0 -1  0]\\n  [ 1 -1  1 ...  1  1  2]]]'],\n",
       "       ...,\n",
       "       ['[[[0 0 0 ... 0 0 0]\\n  [0 0 0 ... 0 0 0]\\n  [0 0 0 ... 0 0 0]\\n  ...\\n  [0 0 0 ... 0 0 0]\\n  [0 0 0 ... 0 0 0]\\n  [0 0 0 ... 0 0 0]]\\n\\n [[0 0 0 ... 0 0 0]\\n  [0 0 0 ... 0 0 0]\\n  [0 0 0 ... 0 0 0]\\n  ...\\n  [0 0 0 ... 0 0 0]\\n  [0 0 0 ... 0 0 0]\\n  [0 0 0 ... 0 0 0]]\\n\\n [[0 0 0 ... 0 0 0]\\n  [0 0 0 ... 0 0 0]\\n  [0 0 0 ... 0 0 0]\\n  ...\\n  [0 0 0 ... 0 0 0]\\n  [0 0 0 ... 0 0 0]\\n  [0 0 0 ... 0 0 0]]\\n\\n ...\\n\\n [[0 0 0 ... 0 0 0]\\n  [0 0 0 ... 0 0 0]\\n  [0 0 0 ... 0 0 0]\\n  ...\\n  [0 0 0 ... 0 0 0]\\n  [0 0 0 ... 0 0 0]\\n  [0 0 0 ... 0 0 0]]\\n\\n [[0 0 0 ... 0 0 0]\\n  [0 0 0 ... 0 0 0]\\n  [0 0 0 ... 0 0 0]\\n  ...\\n  [0 0 0 ... 0 0 0]\\n  [0 0 0 ... 0 0 0]\\n  [0 0 0 ... 0 0 0]]\\n\\n [[0 0 0 ... 0 0 0]\\n  [0 0 0 ... 0 0 0]\\n  [0 0 0 ... 0 0 0]\\n  ...\\n  [0 0 0 ... 0 0 0]\\n  [0 0 0 ... 0 0 0]\\n  [0 0 0 ... 0 0 0]]]'],\n",
       "       ['[[[[ 0  0  0 ...  0  0  0]\\n   [ 0  0  0 ...  0  0  0]\\n   [ 0  0  0 ...  0  0  0]\\n   ...\\n   [ 0  0  0 ...  0  0  0]\\n   [ 0  0  0 ...  0  0  0]\\n   [ 0  0  0 ...  0  0  0]]\\n\\n  [[ 0  0  0 ...  0  0  0]\\n   [ 0  0  0 ...  0  0  0]\\n   [ 0  0  0 ...  0  0  0]\\n   ...\\n   [ 0  0  0 ...  0  0  0]\\n   [ 0  0  0 ...  0  0  0]\\n   [ 0  0  0 ...  0  0  0]]\\n\\n  [[ 0  0  0 ...  0  0  0]\\n   [ 0  0  0 ...  0  0  0]\\n   [ 0  0  0 ...  0  0  0]\\n   ...\\n   [ 0  0  0 ...  0  0  0]\\n   [ 0  0  0 ...  0  0  0]\\n   [ 0  0  0 ...  0  0  0]]\\n\\n  ...\\n\\n  [[ 0  0  0 ...  0  0  0]\\n   [ 0  0  0 ...  0  0  0]\\n   [ 0  0  0 ...  0  0  0]\\n   ...\\n   [ 8 15  9 ...  1  0  0]\\n   [18  1  0 ...  3 17  0]\\n   [ 0 61 52 ... 45 11 42]]\\n\\n  [[ 0  0  0 ...  0  0  0]\\n   [ 0  0  0 ...  0  0  0]\\n   [ 0  0  0 ...  0  0  0]\\n   ...\\n   [ 0  0  0 ...  0  0  0]\\n   [ 0  0  0 ...  0  0  1]\\n   [ 0  0  0 ...  0  0  0]]\\n\\n  [[ 0  0  0 ...  0  0  0]\\n   [ 0  0  0 ...  0  0  0]\\n   [ 0  0  0 ...  0  0  0]\\n   ...\\n   [ 0  0  0 ...  0  0  0]\\n   [ 0  0  0 ...  0  0  0]\\n   [ 0  0  0 ...  0  0  0]]]\\n\\n\\n [[[ 0  0  0 ...  0  0  0]\\n   [ 0  0  0 ...  0  0  0]\\n   [ 0  0  0 ...  0  0  0]\\n   ...\\n   [ 0  0  0 ...  0  0  0]\\n   [ 0  0  0 ...  0  0  0]\\n   [ 0  0  0 ...  0  0  0]]\\n\\n  [[ 0  0  0 ...  0  0  0]\\n   [ 0  0  0 ...  0  0  0]\\n   [ 0  0  0 ...  0  0  0]\\n   ...\\n   [ 0  0  0 ...  0  0  0]\\n   [ 0  0  0 ...  0  0  0]\\n   [ 0  0  0 ...  0  0  0]]\\n\\n  [[ 0  0  0 ...  0  0  0]\\n   [ 0  0  0 ...  0  0  0]\\n   [ 0  0  0 ...  0  0  0]\\n   ...\\n   [ 0  0  0 ...  0  0  0]\\n   [ 0  0  0 ...  0  0  0]\\n   [ 0  0  0 ...  0  0  0]]\\n\\n  ...\\n\\n  [[ 0  0  0 ...  0  0  0]\\n   [ 0  0  0 ...  0  0  0]\\n   [ 0  0  0 ...  0  0  0]\\n   ...\\n   [ 8 18  9 ...  1  3  4]\\n   [ 3  2  9 ... 14  0 29]\\n   [47 37 11 ... 71 36 30]]\\n\\n  [[ 0  0  0 ...  0  0  0]\\n   [ 0  0  0 ...  0  0  0]\\n   [ 0  0  0 ...  0  0  0]\\n   ...\\n   [ 0  0  0 ...  0  0  0]\\n   [ 0  0  0 ...  0  0  0]\\n   [ 0  0  0 ...  0  0  0]]\\n\\n  [[ 0  0  0 ...  0  0  0]\\n   [ 0  0  0 ...  0  0  0]\\n   [ 0  0  0 ...  0  0  0]\\n   ...\\n   [ 0  0  0 ...  0  0  0]\\n   [ 0  0  0 ...  0  0  0]\\n   [ 0  0  0 ...  0  0  0]]]\\n\\n\\n [[[ 0  0  0 ...  0  0  0]\\n   [ 0  0  0 ...  0  0  0]\\n   [ 0  0  0 ...  0  0  0]\\n   ...\\n   [ 0  0  0 ...  0  0  0]\\n   [ 0  0  0 ...  0  0  0]\\n   [ 0  0  0 ...  0  0  0]]\\n\\n  [[ 0  0  0 ...  0  0  0]\\n   [ 0  0  0 ...  0  0  0]\\n   [ 0  0  0 ...  0  0  0]\\n   ...\\n   [ 0  0  0 ...  0  0  0]\\n   [ 0  0  0 ...  0  0  0]\\n   [ 0  0  0 ...  0  0  0]]\\n\\n  [[ 0  0  0 ...  0  0  0]\\n   [ 0  0  0 ...  0  0  0]\\n   [ 0  0  0 ...  0  0  0]\\n   ...\\n   [ 0  0  0 ...  0  0  0]\\n   [ 0  0  0 ...  0  0  0]\\n   [ 0  0  0 ...  0  0  0]]\\n\\n  ...\\n\\n  [[ 0  0  0 ...  0  0  0]\\n   [ 0  0  0 ...  0  0  0]\\n   [ 0  0  0 ...  0  0  0]\\n   ...\\n   [ 8 33  3 ...  3 29 32]\\n   [36 18  7 ... 20 16 72]\\n   [10 61 57 ... 15 49 20]]\\n\\n  [[ 0  0  0 ...  0  0  0]\\n   [ 0  0  0 ...  0  0  0]\\n   [ 0  0  0 ...  0  0  0]\\n   ...\\n   [ 0  0  0 ...  0  0  0]\\n   [ 0  0  0 ...  0  0  0]\\n   [ 0  0  0 ...  0  0  0]]\\n\\n  [[ 0  0  0 ...  0  0  0]\\n   [ 0  0  0 ...  0  0  0]\\n   [ 0  0  0 ...  0  0  0]\\n   ...\\n   [ 0  0  0 ...  0  0  0]\\n   [ 0  0  0 ...  0  0  0]\\n   [ 0  0  0 ...  0  0  0]]]\\n\\n\\n ...\\n\\n\\n [[[ 0  0  0 ...  0  0  0]\\n   [ 0  0  0 ...  0  0  0]\\n   [ 0  0  0 ...  0  0  0]\\n   ...\\n   [ 0  0  0 ...  0  0  0]\\n   [ 0  0  0 ...  0  0  0]\\n   [ 0  0  0 ...  0  0  0]]\\n\\n  [[ 0  0  0 ...  0  0  0]\\n   [ 0  0  0 ...  0  0  0]\\n   [ 0  0  0 ...  0  0  0]\\n   ...\\n   [ 0  0  0 ...  0  0  0]\\n   [ 0  0  0 ...  0  0  0]\\n   [ 0  0  0 ...  0  0  0]]\\n\\n  [[ 0  0  0 ...  0  0  0]\\n   [ 0  0  0 ...  0  0  0]\\n   [ 0  0  0 ...  0  0  0]\\n   ...\\n   [ 0  0  0 ...  0  0  0]\\n   [ 0  0  0 ...  0  0  0]\\n   [ 0  0  0 ...  0  0  0]]\\n\\n  ...\\n\\n  [[ 0  0  0 ...  0  0  0]\\n   [ 0  0  0 ...  0  0  0]\\n   [ 0  0  0 ...  0  0  0]\\n   ...\\n   [ 0  0  0 ...  0  0  0]\\n   [ 1  1  1 ...  0  0  0]\\n   [ 8 23  1 ... 20 26 14]]\\n\\n  [[ 0  0  0 ...  0  0  0]\\n   [ 0  0  0 ...  0  0  0]\\n   [ 0  0  0 ...  0  0  0]\\n   ...\\n   [ 0  0  0 ...  0  0  0]\\n   [ 0  0  0 ...  0  0  0]\\n   [ 0  0  0 ...  0  0  0]]\\n\\n  [[ 0  0  0 ...  0  0  0]\\n   [ 0  0  0 ...  0  0  0]\\n   [ 0  0  0 ...  0  0  0]\\n   ...\\n   [ 0  0  0 ...  0  0  0]\\n   [ 0  0  0 ...  0  0  0]\\n   [ 0  0  0 ...  0  0  0]]]\\n\\n\\n [[[ 0  0  0 ...  0  0  0]\\n   [ 0  0  0 ...  0  0  0]\\n   [ 0  0  0 ...  0  0  0]\\n   ...\\n   [ 0  0  0 ...  0  0  0]\\n   [ 0  0  0 ...  0  0  0]\\n   [ 0  0  0 ...  0  0  0]]\\n\\n  [[ 0  0  0 ...  0  0  0]\\n   [ 0  0  0 ...  0  0  0]\\n   [ 0  0  0 ...  0  0  0]\\n   ...\\n   [ 0  0  0 ...  0  0  0]\\n   [ 0  0  0 ...  0  0  0]\\n   [ 0  0  0 ...  0  0  0]]\\n\\n  [[ 0  0  0 ...  0  0  0]\\n   [ 0  0  0 ...  0  0  0]\\n   [ 0  0  0 ...  0  0  0]\\n   ...\\n   [ 0  0  0 ...  0  0  0]\\n   [ 0  0  0 ...  0  0  0]\\n   [ 0  0  0 ...  0  0  0]]\\n\\n  ...\\n\\n  [[ 0  0  0 ...  0  0  0]\\n   [ 0  0  0 ...  0  0  0]\\n   [ 0  0  0 ...  0  0  0]\\n   ...\\n   [ 0  0  0 ...  0  0  0]\\n   [ 0  0  0 ...  0  0  0]\\n   [ 0  0  1 ...  0  0  1]]\\n\\n  [[ 0  0  0 ...  0  0  0]\\n   [ 0  0  0 ...  0  0  0]\\n   [ 0  0  0 ...  0  0  0]\\n   ...\\n   [ 0  0  0 ...  0  0  0]\\n   [ 0  0  0 ...  0  0  0]\\n   [ 0  0  0 ...  0  0  0]]\\n\\n  [[ 0  0  0 ...  0  0  0]\\n   [ 0  0  0 ...  0  0  0]\\n   [ 0  0  0 ...  0  0  0]\\n   ...\\n   [ 0  0  0 ...  0  0  0]\\n   [ 0  0  0 ...  0  0  0]\\n   [ 0  0  0 ...  0  0  0]]]\\n\\n\\n [[[ 0  0  0 ...  0  0  0]\\n   [ 0  0  0 ...  0  0  0]\\n   [ 0  0  0 ...  0  0  0]\\n   ...\\n   [ 0  0  0 ...  0  0  0]\\n   [ 0  0  0 ...  0  0  0]\\n   [ 0  0  0 ...  0  0  0]]\\n\\n  [[ 0  0  0 ...  0  0  0]\\n   [ 0  0  0 ...  0  0  0]\\n   [ 0  0  0 ...  0  0  0]\\n   ...\\n   [ 0  0  0 ...  0  0  0]\\n   [ 0  0  0 ...  0  0  0]\\n   [ 0  0  0 ...  0  0  0]]\\n\\n  [[ 0  0  0 ...  0  0  0]\\n   [ 0  0  0 ...  0  0  0]\\n   [ 0  0  0 ...  0  0  0]\\n   ...\\n   [ 0  0  0 ...  0  0  0]\\n   [ 0  0  0 ...  0  0  0]\\n   [ 0  0  0 ...  0  0  0]]\\n\\n  ...\\n\\n  [[ 0  0  0 ...  0  0  0]\\n   [ 0  0  0 ...  0  0  0]\\n   [ 0  0  0 ...  0  0  0]\\n   ...\\n   [ 0  0  0 ...  0  0  0]\\n   [ 0  0  0 ...  0  0  0]\\n   [ 0  0  1 ...  0  0  1]]\\n\\n  [[ 0  0  0 ...  0  0  0]\\n   [ 0  0  0 ...  0  0  0]\\n   [ 0  0  0 ...  0  0  0]\\n   ...\\n   [ 0  0  0 ...  0  0  0]\\n   [ 0  0  0 ...  0  0  0]\\n   [ 0  0  0 ...  0  0  0]]\\n\\n  [[ 0  0  0 ...  0  0  0]\\n   [ 0  0  0 ...  0  0  0]\\n   [ 0  0  0 ...  0  0  0]\\n   ...\\n   [ 0  0  0 ...  0  0  0]\\n   [ 0  0  0 ...  0  0  0]\\n   [ 0  0  0 ...  0  0  0]]]]'],\n",
       "       ['[[[[  0   0   0 ...   0   0   0]\\n   [  0   0   0 ...   0   0   0]\\n   [  0   0   0 ...   0   0   0]\\n   ...\\n   [  0   0   0 ...   0   0   0]\\n   [  0   0   0 ...   0   0   0]\\n   [  0   0   0 ...   0   0   0]]\\n\\n  [[  0   0   0 ...   0   0   0]\\n   [  0   0   0 ...   0   0   0]\\n   [  0   0   0 ...   0   0   0]\\n   ...\\n   [  0   0   0 ...   0   0   0]\\n   [  0   0   0 ...   0   0   0]\\n   [  0   0   0 ...   0   0   0]]\\n\\n  [[  0  47  13 ...  22   3   0]\\n   [  1   6   5 ...   1  13   6]\\n   [  0   0   0 ...   0   0   0]\\n   ...\\n   [  0   0   0 ...   0   0   0]\\n   [  0   0   0 ...   0   0   0]\\n   [  0   0   0 ...   0   0   0]]\\n\\n  ...\\n\\n  [[  0   0   0 ...   0   0   0]\\n   [  0   0   0 ...   0   0   0]\\n   [  0   0   0 ...   0   0   0]\\n   ...\\n   [ 23  52   0 ...  31  37   7]\\n   [ 48  17  51 ...  19  14  41]\\n   [ 43   5   8 ...  12  43  27]]\\n\\n  [[  0   0   0 ...   0   0   0]\\n   [  0   0   0 ...   0   0   0]\\n   [  0   0   0 ...   0   0   0]\\n   ...\\n   [  0   0   0 ...   0   0   0]\\n   [  0   0   0 ...   0   0   0]\\n   [ 14   0   0 ...   1  16   8]]\\n\\n  [[  0   0   0 ...   0   0   0]\\n   [  0   0   0 ...   0   0   0]\\n   [  0   0   0 ...   0   0   0]\\n   ...\\n   [  0   0   0 ...   0   0   0]\\n   [  0   0   0 ...   0   0   0]\\n   [  0   0   0 ...   0   0   0]]]\\n\\n\\n [[[  0   0   0 ...   0   0   0]\\n   [  0   0   0 ...   0   0   0]\\n   [  0   0   0 ...   0   0   0]\\n   ...\\n   [  0   0   0 ...   0   0   0]\\n   [  0   0   0 ...   0   0   0]\\n   [  0   0   0 ...   0   0   0]]\\n\\n  [[  0   0   0 ...   0   0   0]\\n   [  0   0   0 ...   0   0   0]\\n   [  0   0   0 ...   0   0   0]\\n   ...\\n   [  0   0   0 ...   0   0   0]\\n   [  0   0   0 ...   0   0   0]\\n   [  0   0   0 ...   0   0   0]]\\n\\n  [[ 12  28   7 ...  10   4   4]\\n   [  3   5   4 ...   2  13   5]\\n   [  0   0   0 ...   0   0   0]\\n   ...\\n   [  0   0   0 ...   0   0   0]\\n   [  0   0   0 ...   0   0   0]\\n   [  0   0   0 ...   0   0   0]]\\n\\n  ...\\n\\n  [[  0   0   0 ...   0   0   0]\\n   [  0   0   0 ...   0   0   0]\\n   [  0   0   0 ...   0   0   0]\\n   ...\\n   [  3  40  10 ...   0  12  17]\\n   [  1  22   0 ...   8  36  22]\\n   [ 30  32  11 ...  38  30  61]]\\n\\n  [[  0   0   0 ...   0   0   0]\\n   [  0   0   0 ...   0   0   0]\\n   [  0   0   0 ...   0   0   0]\\n   ...\\n   [  0   0   0 ...   0   0   0]\\n   [  1   1   0 ...   0   1   1]\\n   [  0   2   7 ...  12  15  29]]\\n\\n  [[  0   0   0 ...   0   0   0]\\n   [  0   0   0 ...   0   0   0]\\n   [  0   0   0 ...   0   0   0]\\n   ...\\n   [  0   0   0 ...   0   0   0]\\n   [  0   0   0 ...   0   0   0]\\n   [  0   0   0 ...   0   0   0]]]\\n\\n\\n [[[  0   0   0 ...   0   0   0]\\n   [  0   0   0 ...   0   0   0]\\n   [  0   0   0 ...   0   0   0]\\n   ...\\n   [  0   0   0 ...   0   0   0]\\n   [  0   0   0 ...   0   0   0]\\n   [  0   0   0 ...   0   0   0]]\\n\\n  [[  0   0   0 ...   0   0   0]\\n   [  0   0   0 ...   0   0   0]\\n   [  0   0   0 ...   0   0   0]\\n   ...\\n   [  0   0   0 ...   0   0   0]\\n   [  0   0   0 ...   0   0   0]\\n   [  0   0   0 ...   0   0   0]]\\n\\n  [[ 28   4   8 ...   8  11  10]\\n   [ 15   0   3 ...  10   9   5]\\n   [  0   0   0 ...   0   0   0]\\n   ...\\n   [  0   0   0 ...   0   0   0]\\n   [  0   0   0 ...   0   0   0]\\n   [  0   0   0 ...   0   0   0]]\\n\\n  ...\\n\\n  [[  0   0   0 ...   0   0   0]\\n   [  0   0   0 ...   0   0   0]\\n   [  0   0   0 ...   0   0   0]\\n   ...\\n   [ 13   0  11 ...  39   1  35]\\n   [ 26  47  30 ...  26  36  24]\\n   [ 68  53  36 ...  60   6  64]]\\n\\n  [[  0   0   0 ...   0   0   0]\\n   [  0   0   0 ...   0   0   0]\\n   [  0   0   0 ...   0   0   0]\\n   ...\\n   [  0   0   0 ...   0   0   0]\\n   [  1   4   4 ...   2   3   1]\\n   [ 21  22  19 ...  34   5  36]]\\n\\n  [[  0   0   0 ...   0   0   0]\\n   [  0   0   0 ...   0   0   0]\\n   [  0   0   0 ...   0   0   0]\\n   ...\\n   [  0   0   0 ...   0   0   0]\\n   [  0   0   0 ...   0   0   0]\\n   [  0   0   0 ...   0   0   0]]]\\n\\n\\n ...\\n\\n\\n [[[  0   0   0 ...   0   0   0]\\n   [  0   0   0 ...   0   0   0]\\n   [  0   0   0 ...   0   0   0]\\n   ...\\n   [  0   0   0 ...   0   0   0]\\n   [  0   0   0 ...   0   0   0]\\n   [  0   0   0 ...   0   0   0]]\\n\\n  [[  0   0   0 ...   0   0   0]\\n   [  0   0   0 ...   0   0   0]\\n   [  0   0   0 ...   0   0   0]\\n   ...\\n   [  0   0   0 ...   0   0   0]\\n   [  0   0   0 ...   0   0   0]\\n   [  0   0   0 ...   0   0   0]]\\n\\n  [[ 24  53   5 ...  84  18  18]\\n   [  0  33  20 ...  41  32  35]\\n   [  2   3   1 ...   0   2   2]\\n   ...\\n   [  0   0   0 ...   0   0   0]\\n   [  0   0   0 ...   0   0   0]\\n   [  0   0   0 ...   0   0   0]]\\n\\n  ...\\n\\n  [[  0   0   0 ...   0   0   0]\\n   [  0   0   0 ...   0   0   0]\\n   [  0   0   0 ...   0   0   0]\\n   ...\\n   [ 51  28  58 ...  54  11  19]\\n   [  0 110  10 ...  15  22  23]\\n   [ 29   0  35 ...  80  72  78]]\\n\\n  [[  0   0   0 ...   0   0   0]\\n   [  0   0   0 ...   0   0   0]\\n   [  0   0   0 ...   0   0   0]\\n   ...\\n   [  0   0   0 ...   0   0   0]\\n   [  0  22   1 ...   6   0   6]\\n   [ 36   0   9 ...  25  55  36]]\\n\\n  [[  0   0   0 ...   0   0   0]\\n   [  0   0   0 ...   0   0   0]\\n   [  0   0   0 ...   0   0   0]\\n   ...\\n   [  0   0   0 ...   0   0   0]\\n   [  0   0   0 ...   0   0   0]\\n   [  0   1   0 ...   0   0   0]]]\\n\\n\\n [[[  0   0   0 ...   0   0   0]\\n   [  0   0   0 ...   0   0   0]\\n   [  0   0   0 ...   0   0   0]\\n   ...\\n   [  0   0   0 ...   0   0   0]\\n   [  0   0   0 ...   0   0   0]\\n   [  0   0   0 ...   0   0   0]]\\n\\n  [[  0   0   0 ...   0   0   0]\\n   [  0   0   0 ...   0   0   0]\\n   [  0   0   0 ...   0   0   0]\\n   ...\\n   [  0   0   0 ...   0   0   0]\\n   [  0   0   0 ...   0   0   0]\\n   [  0   0   0 ...   0   0   0]]\\n\\n  [[ 41  42   1 ...  20   3  58]\\n   [  3  13   9 ...   2   2   7]\\n   [  0   0   0 ...   0   0   0]\\n   ...\\n   [  0   0   0 ...   0   0   0]\\n   [  0   0   0 ...   0   0   0]\\n   [  0   0   0 ...   0   0   0]]\\n\\n  ...\\n\\n  [[  0   0   0 ...   0   0   0]\\n   [  0   0   0 ...   0   0   0]\\n   [  0   0   0 ...   0   0   0]\\n   ...\\n   [  7   2  15 ...  28  61  37]\\n   [ 35  69   2 ...  13  30  19]\\n   [ 49  76  39 ...  38  76  16]]\\n\\n  [[  0   0   0 ...   0   0   0]\\n   [  0   0   0 ...   0   0   0]\\n   [  0   0   0 ...   0   0   0]\\n   ...\\n   [  0   0   0 ...   0   0   0]\\n   [  5  11   0 ...   2   7   3]\\n   [ 39  44  19 ...  27  49  23]]\\n\\n  [[  0   0   0 ...   0   0   0]\\n   [  0   0   0 ...   0   0   0]\\n   [  0   0   0 ...   0   0   0]\\n   ...\\n   [  0   0   0 ...   0   0   0]\\n   [  0   0   0 ...   0   0   0]\\n   [  0   0   0 ...   0   0   0]]]\\n\\n\\n [[[  0   0   0 ...   0   0   0]\\n   [  0   0   0 ...   0   0   0]\\n   [  0   0   0 ...   0   0   0]\\n   ...\\n   [  0   0   0 ...   0   0   0]\\n   [  0   0   0 ...   0   0   0]\\n   [  0   0   0 ...   0   0   0]]\\n\\n  [[  0   0   0 ...   0   0   0]\\n   [  0   0   0 ...   0   0   0]\\n   [  0   0   0 ...   0   0   0]\\n   ...\\n   [  0   0   0 ...   0   0   0]\\n   [  0   0   0 ...   0   0   0]\\n   [  0   0   0 ...   0   0   0]]\\n\\n  [[ 17   6  13 ...  58   0  10]\\n   [  0  12   8 ...   1   5   8]\\n   [  0   0   0 ...   0   0   0]\\n   ...\\n   [  0   0   0 ...   0   0   0]\\n   [  0   0   0 ...   0   0   0]\\n   [  0   0   0 ...   0   0   0]]\\n\\n  ...\\n\\n  [[  0   0   0 ...   0   0   0]\\n   [  0   0   0 ...   0   0   0]\\n   [  0   0   0 ...   0   0   0]\\n   ...\\n   [  6   0  34 ...   0  18  35]\\n   [ 36  32  38 ...  54  36  20]\\n   [ 35  39  44 ...  27  54  31]]\\n\\n  [[  0   0   0 ...   0   0   0]\\n   [  0   0   0 ...   0   0   0]\\n   [  0   0   0 ...   0   0   0]\\n   ...\\n   [  0   0   0 ...   0   0   0]\\n   [  5   5   5 ...   9   5   3]\\n   [ 14   0   8 ...  14  11  19]]\\n\\n  [[  0   0   0 ...   0   0   0]\\n   [  0   0   0 ...   0   0   0]\\n   [  0   0   0 ...   0   0   0]\\n   ...\\n   [  0   0   0 ...   0   0   0]\\n   [  0   0   0 ...   0   0   0]\\n   [  0   0   0 ...   0   0   0]]]]']],\n",
       "      dtype=object)"
      ]
     },
     "execution_count": 51,
     "metadata": {},
     "output_type": "execute_result"
    }
   ],
   "source": [
    "np.asarray(ntrial)"
   ]
  },
  {
   "cell_type": "code",
   "execution_count": 61,
   "metadata": {},
   "outputs": [
    {
     "ename": "AttributeError",
     "evalue": "'DataFrame' object has no attribute 'object'",
     "output_type": "error",
     "traceback": [
      "\u001b[0;31m---------------------------------------------------------------------------\u001b[0m",
      "\u001b[0;31mAttributeError\u001b[0m                            Traceback (most recent call last)",
      "\u001b[0;32m<ipython-input-61-643bb69ce440>\u001b[0m in \u001b[0;36m<module>\u001b[0;34m\u001b[0m\n\u001b[0;32m----> 1\u001b[0;31m \u001b[0mntrial\u001b[0m\u001b[0;34m.\u001b[0m\u001b[0mobject\u001b[0m\u001b[0;34m.\u001b[0m\u001b[0mreplace\u001b[0m\u001b[0;34m(\u001b[0m\u001b[0;34m','\u001b[0m\u001b[0;34m,\u001b[0m\u001b[0;34m'.'\u001b[0m\u001b[0;34m)\u001b[0m\u001b[0;34m\u001b[0m\u001b[0;34m\u001b[0m\u001b[0m\n\u001b[0m",
      "\u001b[0;32m~/anaconda3/lib/python3.7/site-packages/pandas/core/generic.py\u001b[0m in \u001b[0;36m__getattr__\u001b[0;34m(self, name)\u001b[0m\n\u001b[1;32m   5271\u001b[0m             \u001b[0;32mif\u001b[0m \u001b[0mself\u001b[0m\u001b[0;34m.\u001b[0m\u001b[0m_info_axis\u001b[0m\u001b[0;34m.\u001b[0m\u001b[0m_can_hold_identifiers_and_holds_name\u001b[0m\u001b[0;34m(\u001b[0m\u001b[0mname\u001b[0m\u001b[0;34m)\u001b[0m\u001b[0;34m:\u001b[0m\u001b[0;34m\u001b[0m\u001b[0;34m\u001b[0m\u001b[0m\n\u001b[1;32m   5272\u001b[0m                 \u001b[0;32mreturn\u001b[0m \u001b[0mself\u001b[0m\u001b[0;34m[\u001b[0m\u001b[0mname\u001b[0m\u001b[0;34m]\u001b[0m\u001b[0;34m\u001b[0m\u001b[0;34m\u001b[0m\u001b[0m\n\u001b[0;32m-> 5273\u001b[0;31m             \u001b[0;32mreturn\u001b[0m \u001b[0mobject\u001b[0m\u001b[0;34m.\u001b[0m\u001b[0m__getattribute__\u001b[0m\u001b[0;34m(\u001b[0m\u001b[0mself\u001b[0m\u001b[0;34m,\u001b[0m \u001b[0mname\u001b[0m\u001b[0;34m)\u001b[0m\u001b[0;34m\u001b[0m\u001b[0;34m\u001b[0m\u001b[0m\n\u001b[0m\u001b[1;32m   5274\u001b[0m \u001b[0;34m\u001b[0m\u001b[0m\n\u001b[1;32m   5275\u001b[0m     \u001b[0;32mdef\u001b[0m \u001b[0m__setattr__\u001b[0m\u001b[0;34m(\u001b[0m\u001b[0mself\u001b[0m\u001b[0;34m,\u001b[0m \u001b[0mname\u001b[0m\u001b[0;34m:\u001b[0m \u001b[0mstr\u001b[0m\u001b[0;34m,\u001b[0m \u001b[0mvalue\u001b[0m\u001b[0;34m)\u001b[0m \u001b[0;34m->\u001b[0m \u001b[0;32mNone\u001b[0m\u001b[0;34m:\u001b[0m\u001b[0;34m\u001b[0m\u001b[0;34m\u001b[0m\u001b[0m\n",
      "\u001b[0;31mAttributeError\u001b[0m: 'DataFrame' object has no attribute 'object'"
     ]
    }
   ],
   "source": [
    "ntrial.object.replace(',','.')"
   ]
  },
  {
   "cell_type": "code",
   "execution_count": 17,
   "metadata": {},
   "outputs": [
    {
     "data": {
      "text/plain": [
       "(2197, 2)"
      ]
     },
     "execution_count": 17,
     "metadata": {},
     "output_type": "execute_result"
    }
   ],
   "source": [
    "tstrial.shape"
   ]
  },
  {
   "cell_type": "code",
   "execution_count": 58,
   "metadata": {},
   "outputs": [],
   "source": [
    "trial_1=np.asarray(tstrial)"
   ]
  },
  {
   "cell_type": "code",
   "execution_count": 63,
   "metadata": {},
   "outputs": [
    {
     "data": {
      "text/plain": [
       "array       object\n",
       "CDRGLOB    float64\n",
       "dtype: object"
      ]
     },
     "execution_count": 63,
     "metadata": {},
     "output_type": "execute_result"
    }
   ],
   "source": [
    "ttrial.dtypes"
   ]
  },
  {
   "cell_type": "code",
   "execution_count": 64,
   "metadata": {},
   "outputs": [
    {
     "data": {
      "text/plain": [
       "0       [[[  0   0   0 ...   0   0   0]\\n  [  0   0   ...\n",
       "1       [[[ 8  6 -4 ...  6  4  0]\\n  [ 8  6 -3 ...  6 ...\n",
       "2       [[[-1 -1  0 ...  0  0  0]\\n  [-1 -1  0 ...  0 ...\n",
       "3       [[[ -3   7   1 ...   2  -2  -2]\\n  [ -3   7   ...\n",
       "4       [[[-1  1  1 ... -1  0 -2]\\n  [-1  1  1 ... -1 ...\n",
       "                              ...                        \n",
       "2192    [[[0 0 0 ... 0 0 0]\\n  [0 0 0 ... 0 0 0]\\n  [0...\n",
       "2193    [[[[ 0  0  0 ...  0  0  0]\\n   [ 0  0  0 ...  ...\n",
       "2194    [[[0 0 0 ... 0 0 0]\\n  [0 0 0 ... 0 0 0]\\n  [0...\n",
       "2195    [[[[ 0  0  0 ...  0  0  0]\\n   [ 0  0  0 ...  ...\n",
       "2196    [[[[  0   0   0 ...   0   0   0]\\n   [  0   0 ...\n",
       "Name: array, Length: 2197, dtype: object"
      ]
     },
     "execution_count": 64,
     "metadata": {},
     "output_type": "execute_result"
    }
   ],
   "source": [
    "ttrial['array'].astype(str)"
   ]
  },
  {
   "cell_type": "code",
   "execution_count": 65,
   "metadata": {},
   "outputs": [
    {
     "data": {
      "text/plain": [
       "array       object\n",
       "CDRGLOB    float64\n",
       "dtype: object"
      ]
     },
     "execution_count": 65,
     "metadata": {},
     "output_type": "execute_result"
    }
   ],
   "source": [
    "ttrial.dtypes"
   ]
  },
  {
   "cell_type": "code",
   "execution_count": 73,
   "metadata": {},
   "outputs": [
    {
     "ename": "ValueError",
     "evalue": "could not convert string to float: '[[[  0   0   0 ...   0   0   0]\\n  [  0   0   0 ...   0   0   0]\\n  [  0   0   0 ...   0   0   0]\\n  ...\\n  [  0   0   0 ...   0   0   0]\\n  [  0   0   0 ...   0   0   0]\\n  [  0   0   0 ...   0   0   0]]\\n\\n [[ 19  14  28 ...  23  27  40]\\n  [ 30  26  24 ...  37  31  31]\\n  [ 25  26  28 ...  27  28  27]\\n  ...\\n  [  7   5   1 ...   3   4   2]\\n  [  1   2   4 ...   4   2   1]\\n  [  0   0   0 ...   0   0   0]]\\n\\n [[ 25  26  26 ...  29  33  33]\\n  [ 38  29  25 ...  32  36  30]\\n  [ 38  22  19 ...  40  30  29]\\n  ...\\n  [  4   4   1 ...   6   4   1]\\n  [  4   4   0 ...   7   4   3]\\n  [  0   0   0 ...   0   0   0]]\\n\\n ...\\n\\n [[232 164 205 ... 263 281 172]\\n  [232 170 171 ... 243 254 293]\\n  [168 282 153 ... 218 232 259]\\n  ...\\n  [  3   1   1 ...   4   2   1]\\n  [  9   5   6 ...   2   0   9]\\n  [  0   0   0 ...   0   0   0]]\\n\\n [[232 184 154 ... 200 200 198]\\n  [196 141 195 ... 196 277 238]\\n  [256 282 235 ... 251 227 184]\\n  ...\\n  [  2   6   2 ...   1   5   1]\\n  [  8   5   7 ...   3   4   6]\\n  [  0   0   0 ...   0   0   0]]\\n\\n [[178 236 186 ... 287 209 164]\\n  [144 142 205 ... 249 244 141]\\n  [225 200 221 ... 294 279 268]\\n  ...\\n  [  1   4   3 ...   5   1   5]\\n  [  6   3   7 ...   2   0   7]\\n  [  0   0   0 ...   0   0   0]]]'",
     "output_type": "error",
     "traceback": [
      "\u001b[0;31m---------------------------------------------------------------------------\u001b[0m",
      "\u001b[0;31mValueError\u001b[0m                                Traceback (most recent call last)",
      "\u001b[0;32m<ipython-input-73-f3cce2c71893>\u001b[0m in \u001b[0;36m<module>\u001b[0;34m\u001b[0m\n\u001b[0;32m----> 1\u001b[0;31m \u001b[0mttrial\u001b[0m\u001b[0;34m[\u001b[0m\u001b[0;34m'array'\u001b[0m\u001b[0;34m]\u001b[0m\u001b[0;34m.\u001b[0m\u001b[0mvalues\u001b[0m\u001b[0;34m.\u001b[0m\u001b[0mastype\u001b[0m\u001b[0;34m(\u001b[0m\u001b[0mfloat\u001b[0m\u001b[0;34m)\u001b[0m\u001b[0;34m\u001b[0m\u001b[0;34m\u001b[0m\u001b[0m\n\u001b[0m",
      "\u001b[0;31mValueError\u001b[0m: could not convert string to float: '[[[  0   0   0 ...   0   0   0]\\n  [  0   0   0 ...   0   0   0]\\n  [  0   0   0 ...   0   0   0]\\n  ...\\n  [  0   0   0 ...   0   0   0]\\n  [  0   0   0 ...   0   0   0]\\n  [  0   0   0 ...   0   0   0]]\\n\\n [[ 19  14  28 ...  23  27  40]\\n  [ 30  26  24 ...  37  31  31]\\n  [ 25  26  28 ...  27  28  27]\\n  ...\\n  [  7   5   1 ...   3   4   2]\\n  [  1   2   4 ...   4   2   1]\\n  [  0   0   0 ...   0   0   0]]\\n\\n [[ 25  26  26 ...  29  33  33]\\n  [ 38  29  25 ...  32  36  30]\\n  [ 38  22  19 ...  40  30  29]\\n  ...\\n  [  4   4   1 ...   6   4   1]\\n  [  4   4   0 ...   7   4   3]\\n  [  0   0   0 ...   0   0   0]]\\n\\n ...\\n\\n [[232 164 205 ... 263 281 172]\\n  [232 170 171 ... 243 254 293]\\n  [168 282 153 ... 218 232 259]\\n  ...\\n  [  3   1   1 ...   4   2   1]\\n  [  9   5   6 ...   2   0   9]\\n  [  0   0   0 ...   0   0   0]]\\n\\n [[232 184 154 ... 200 200 198]\\n  [196 141 195 ... 196 277 238]\\n  [256 282 235 ... 251 227 184]\\n  ...\\n  [  2   6   2 ...   1   5   1]\\n  [  8   5   7 ...   3   4   6]\\n  [  0   0   0 ...   0   0   0]]\\n\\n [[178 236 186 ... 287 209 164]\\n  [144 142 205 ... 249 244 141]\\n  [225 200 221 ... 294 279 268]\\n  ...\\n  [  1   4   3 ...   5   1   5]\\n  [  6   3   7 ...   2   0   7]\\n  [  0   0   0 ...   0   0   0]]]'"
     ]
    }
   ],
   "source": [
    "ttrial['array'].values.astype(float)"
   ]
  }
 ],
 "metadata": {
  "kernelspec": {
   "display_name": "Python 3",
   "language": "python",
   "name": "python3"
  },
  "language_info": {
   "codemirror_mode": {
    "name": "ipython",
    "version": 3
   },
   "file_extension": ".py",
   "mimetype": "text/x-python",
   "name": "python",
   "nbconvert_exporter": "python",
   "pygments_lexer": "ipython3",
   "version": "3.7.4"
  }
 },
 "nbformat": 4,
 "nbformat_minor": 2
}
